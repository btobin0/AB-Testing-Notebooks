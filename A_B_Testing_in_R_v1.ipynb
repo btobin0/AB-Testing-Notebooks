{
 "cells": [
  {
   "cell_type": "code",
   "execution_count": null,
   "id": "93a70788",
   "metadata": {},
   "outputs": [],
   "source": [
    "#https://www.kaggle.com/code/yzhou3/a-b-testing-in-r/notebook"
   ]
  },
  {
   "cell_type": "code",
   "execution_count": null,
   "id": "74d8d2ab",
   "metadata": {},
   "outputs": [],
   "source": [
    "library(tidyverse)\n",
    "list.files(path = \"../input\")\n",
    "# read data\n",
    "df<- read.csv(\"../input/ab-testing/ab_data.csv\")\n",
    "df <- data.frame(df)\n",
    "colnames(df)\n",
    "nrow(df)\n",
    "\n",
    "#find out not aligned info between 'group' and 'landing_page'\n",
    "notaligned_user=df %>% filter((df$group=='treatment'& landing_page == \"old_page\")|(df$group=='control'& landing_page == \"new_page\"))\n",
    "\n",
    "#aligned info between 'group' and 'landing_page'\n",
    "df1=df[(df$group=='control'& df$landing_page == \"old_page\")|(df$group=='treatment'& df$landing_page == \"new_page\"),]"
   ]
  },
  {
   "cell_type": "code",
   "execution_count": null,
   "id": "1ba8ae3b",
   "metadata": {},
   "outputs": [],
   "source": [
    "# find out unique id\n",
    "unique_id <- unique(df1$user_id)\n",
    "length(unique_id)\n",
    "#if a user clicked several times, only keep the first result for analysis. \n",
    "df1 <- df1 %>% group_by(user_id) %>% arrange(timestamp)\n",
    "df2=df1[!duplicated(df1$user_id),]            \n",
    "nrow(df2)"
   ]
  },
  {
   "cell_type": "code",
   "execution_count": null,
   "id": "b8fa262a",
   "metadata": {},
   "outputs": [],
   "source": [
    "#H0:Pnew<=Pold  H1:Pnew>=Pold\n",
    "library(lubridate)\n",
    "df2$date<-as.Date(df2$timestamp)\n",
    "df_new<-df2 %>% \n",
    "group_by(date,group) %>% \n",
    "summarize(conversion_rate = mean(converted))\n",
    "head(df2)"
   ]
  },
  {
   "cell_type": "code",
   "execution_count": null,
   "id": "bd019fff",
   "metadata": {},
   "outputs": [],
   "source": [
    "#ggplot\n",
    "ggplot(df_new,aes(x=date,y=conversion_rate,\n",
    "  color = group,group = group)) +\n",
    "  geom_point(size = 2) +\n",
    "  geom_line(lwd = 1) +\n",
    "  labs(x = \"date\",  y = \"Conversion Rate\")"
   ]
  },
  {
   "cell_type": "code",
   "execution_count": null,
   "id": "2f30aa08",
   "metadata": {},
   "outputs": [],
   "source": [
    "#AB Testing: Organize variables and run logistic regression\n",
    "df2$group = factor(df2$group, levels = c(\"control\", \"treatment\"))\n",
    "fit<-glm(converted ~ group, family = \"binomial\", data =df2) \n",
    "summary(fit)\n",
    "# group treatment 0.19>0.05\n",
    "#not significant, cannot reject H0\n",
    "#think of new idea"
   ]
  },
  {
   "cell_type": "code",
   "execution_count": null,
   "id": "5f7d488d",
   "metadata": {},
   "outputs": [],
   "source": []
  },
  {
   "cell_type": "code",
   "execution_count": null,
   "id": "75a5e81b",
   "metadata": {},
   "outputs": [],
   "source": []
  },
  {
   "cell_type": "code",
   "execution_count": null,
   "id": "1616e47d",
   "metadata": {},
   "outputs": [],
   "source": []
  }
 ],
 "metadata": {
  "kernelspec": {
   "display_name": "R",
   "language": "R",
   "name": "ir"
  },
  "language_info": {
   "codemirror_mode": "r",
   "file_extension": ".r",
   "mimetype": "text/x-r-source",
   "name": "R",
   "pygments_lexer": "r",
   "version": "3.6.1"
  }
 },
 "nbformat": 4,
 "nbformat_minor": 5
}
